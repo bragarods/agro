{
  "nbformat": 4,
  "nbformat_minor": 0,
  "metadata": {
    "colab": {
      "name": "data_prep",
      "provenance": [],
      "collapsed_sections": [
        "ErfngIFVH_CX",
        "h7jT-ikNIKBR",
        "uGv3XMPpIlf8",
        "grfgClseI7fX"
      ],
      "authorship_tag": "ABX9TyNFHJxRp5+4CgxvwXQk4Bwh",
      "include_colab_link": true
    },
    "kernelspec": {
      "name": "python3",
      "display_name": "Python 3"
    }
  },
  "cells": [
    {
      "cell_type": "markdown",
      "metadata": {
        "id": "view-in-github",
        "colab_type": "text"
      },
      "source": [
        "<a href=\"https://colab.research.google.com/github/bragarods/agro/blob/master/data_prep.ipynb\" target=\"_parent\"><img src=\"https://colab.research.google.com/assets/colab-badge.svg\" alt=\"Open In Colab\"/></a>"
      ]
    },
    {
      "cell_type": "code",
      "metadata": {
        "id": "n9jdNLNo-Lzq",
        "colab_type": "code",
        "colab": {
          "base_uri": "https://localhost:8080/",
          "height": 127
        },
        "outputId": "2c82906a-d17b-4efb-825e-c8e293310890"
      },
      "source": [
        "import pandas as pd\n",
        "import numpy as np\n",
        "from google.colab import drive\n",
        "\n",
        "# monta caminho do Google Drive\n",
        "\n",
        "drive.mount('/drive')\n",
        "\n",
        "# define caminho dos dados\n",
        "\n",
        "url_drive = '/drive/My Drive/Colab Notebooks/case-agro/data'"
      ],
      "execution_count": 1,
      "outputs": [
        {
          "output_type": "stream",
          "text": [
            "Go to this URL in a browser: https://accounts.google.com/o/oauth2/auth?client_id=947318989803-6bn6qk8qdgf4n4g3pfee6491hc0brc4i.apps.googleusercontent.com&redirect_uri=urn%3aietf%3awg%3aoauth%3a2.0%3aoob&response_type=code&scope=email%20https%3a%2f%2fwww.googleapis.com%2fauth%2fdocs.test%20https%3a%2f%2fwww.googleapis.com%2fauth%2fdrive%20https%3a%2f%2fwww.googleapis.com%2fauth%2fdrive.photos.readonly%20https%3a%2f%2fwww.googleapis.com%2fauth%2fpeopleapi.readonly\n",
            "\n",
            "Enter your authorization code:\n",
            "··········\n",
            "Mounted at /drive\n"
          ],
          "name": "stdout"
        }
      ]
    },
    {
      "cell_type": "markdown",
      "metadata": {
        "id": "ErfngIFVH_CX",
        "colab_type": "text"
      },
      "source": [
        "### Localidades IBGE"
      ]
    },
    {
      "cell_type": "code",
      "metadata": {
        "id": "7dtFsNN4hPLZ",
        "colab_type": "code",
        "colab": {}
      },
      "source": [
        "# importa base de localidades do IBGE\n",
        "\n",
        "df_mun = pd.read_csv('{}/mun_ibge.csv'.format(url_drive), sep='\\t').drop('Unnamed: 0', axis=1)"
      ],
      "execution_count": null,
      "outputs": []
    },
    {
      "cell_type": "markdown",
      "metadata": {
        "id": "h7jT-ikNIKBR",
        "colab_type": "text"
      },
      "source": [
        "### PAM Estadual\n"
      ]
    },
    {
      "cell_type": "code",
      "metadata": {
        "id": "2njdw8mQnJ6n",
        "colab_type": "code",
        "colab": {
          "base_uri": "https://localhost:8080/",
          "height": 73
        },
        "outputId": "bbda211b-8168-4bf5-eee8-160607c59df7"
      },
      "source": [
        "# import dados de produtividade dos estados\n",
        "\n",
        "df_pam_est = pd.read_csv('{}/pam_estadual_20200707.csv'.format(url_drive), sep=';', skiprows=2)\n",
        "\n",
        "# filtra informacoes adicionais da planilha\n",
        "\n",
        "df_pam_est = df_pam_est[~df_pam_est['Mês'].isnull()]\n",
        "\n",
        "# transforma codigo da localidade para numerico\n",
        "\n",
        "df_pam_est['Cód.'] = df_pam_est['Cód.'].astype(int)\n",
        "\n",
        "# salva no drive\n",
        "\n",
        "df_pam_est.to_csv('{}/pam_estadual_tratada.csv'.format(url_drive), sep='\\t')"
      ],
      "execution_count": null,
      "outputs": [
        {
          "output_type": "stream",
          "text": [
            "/usr/local/lib/python3.6/dist-packages/IPython/core/interactiveshell.py:2718: DtypeWarning: Columns (0) have mixed types.Specify dtype option on import or set low_memory=False.\n",
            "  interactivity=interactivity, compiler=compiler, result=result)\n"
          ],
          "name": "stderr"
        }
      ]
    },
    {
      "cell_type": "markdown",
      "metadata": {
        "id": "uGv3XMPpIlf8",
        "colab_type": "text"
      },
      "source": [
        "### PAM Municipal"
      ]
    },
    {
      "cell_type": "code",
      "metadata": {
        "id": "w5u02CnGCi_O",
        "colab_type": "code",
        "colab": {
          "base_uri": "https://localhost:8080/",
          "height": 73
        },
        "outputId": "78ff86dc-fce1-4610-d33f-41fb8fa26e01"
      },
      "source": [
        "# import dados de produtividade em nivel municipal\n",
        "\n",
        "years = [2015, 2016, 2017, 2018]\n",
        "\n",
        "for year in years:\n",
        "  \n",
        "  globals()['df_pam_mun_{}'.format(year)] = pd.read_csv('{}/pam_municipal_{}.csv'.format(url_drive, year), sep=';', skiprows=2)\n",
        "\n",
        "# empilha pesquisas municipais\n",
        "\n",
        "df_pam_mun = df_pam_mun_2018.append([df_pam_mun_2017, df_pam_mun_2016, df_pam_mun_2015])\n",
        "\n",
        "# filtra informacoes adicionais da planilha\n",
        "\n",
        "df_pam_mun = df_pam_mun[~df_pam_mun['Ano'].isnull()]\n",
        "\n",
        "# transforma codigo da localidade para numerico\n",
        "\n",
        "df_pam_mun['Cód.'] = df_pam_mun['Cód.'].astype(int)\n",
        "\n",
        "# transforma ano em inteiro\n",
        "\n",
        "df_pam_mun['Ano'] = df_pam_mun['Ano'].astype(int)\n",
        "\n",
        "# dropa coluna de calculo\n",
        "\n",
        "df_pam_mun.drop(columns=['Área colhida - percentual do total geral', 'Valor da produção (Mil Reais)'], axis=1, inplace=True)\n",
        "\n",
        "# salva no drive \n",
        " \n",
        "df_pam_mun.to_csv('{}/pam_municipal_tratada.csv'.format(url_drive), sep='\\t')\n",
        "\n"
      ],
      "execution_count": null,
      "outputs": [
        {
          "output_type": "stream",
          "text": [
            "/usr/local/lib/python3.6/dist-packages/IPython/core/interactiveshell.py:2718: DtypeWarning: Columns (0) have mixed types.Specify dtype option on import or set low_memory=False.\n",
            "  interactivity=interactivity, compiler=compiler, result=result)\n"
          ],
          "name": "stderr"
        }
      ]
    },
    {
      "cell_type": "code",
      "metadata": {
        "id": "9bSVDaiTS93h",
        "colab_type": "code",
        "colab": {
          "base_uri": "https://localhost:8080/",
          "height": 71
        },
        "outputId": "ccc5ac18-5247-4d6a-eec0-813fa2f556f5"
      },
      "source": [
        "dfs = np.split(df_pam_mun, [805248], axis=0)\n",
        "\n",
        "print(df_pam_mun.shape)\n",
        "print(dfs[0].shape)\n",
        "print(dfs[1].shape)\n",
        "\n",
        "dfs[0].to_csv('{}/pam_municipal_tratada1.csv'.format(url_drive), sep='\\t')\n",
        "\n",
        "dfs[1].to_csv('{}/pam_municipal_tratada2.csv'.format(url_drive), sep='\\t')"
      ],
      "execution_count": null,
      "outputs": [
        {
          "output_type": "stream",
          "text": [
            "(1610496, 8)\n",
            "(805248, 8)\n",
            "(805248, 8)\n"
          ],
          "name": "stdout"
        }
      ]
    },
    {
      "cell_type": "code",
      "metadata": {
        "id": "GWoXk12WILGD",
        "colab_type": "code",
        "colab": {}
      },
      "source": [
        "# culturas unicas estadual\n",
        "\n",
        "est_unq = df_pam_est['Produto das lavouras'].unique()\n",
        "\n",
        "mun_unq = df_pam_mun['Produto das lavouras temporárias e permanentes'].unique()\n",
        "\n",
        "df_unq = pd.DataFrame([est_unq, mun_unq]).T\n",
        "\n",
        "df_unq.rename(columns={0:'estadual', 1: 'municipal'}, inplace=True)\n",
        "\n",
        "df_unq.to_csv('{}/cult_unq.csv'.format(url_drive), sep='\\t')"
      ],
      "execution_count": null,
      "outputs": []
    },
    {
      "cell_type": "markdown",
      "metadata": {
        "id": "grfgClseI7fX",
        "colab_type": "text"
      },
      "source": [
        "### Agrega dados INMET"
      ]
    },
    {
      "cell_type": "code",
      "metadata": {
        "id": "R67GwcBR-22h",
        "colab_type": "code",
        "colab": {}
      },
      "source": [
        "# importa dados INMET\n",
        "\n",
        "years = [2018, 2019] \n",
        "months = np.arange(1,13)\n",
        "\n",
        "df_aut_emp = pd.DataFrame([])\n",
        "\n",
        "for year in years:\n",
        "  for month in months:\n",
        "    month_1 = np.where(month != 12,\n",
        "                       month + 1,\n",
        "                       1)\n",
        "    year_1 = np.where(month != 12,\n",
        "                      year,\n",
        "                      year + 1)\n",
        "    \n",
        "    df_aut_tmp = pd.read_csv('/drive/My Drive/Colab Notebooks/case-agro/data/dados_aut_emp_{}{}.csv'.format(year,str(month).zfill(2)), sep='\\t')\n",
        "    \n",
        "    print('OK', '{}{}'.format(year, str(month).zfill(2)))\n",
        "\n",
        "    df_aut_emp = df_aut_emp.append(df_aut_tmp)\n",
        "\n"
      ],
      "execution_count": null,
      "outputs": []
    },
    {
      "cell_type": "markdown",
      "metadata": {
        "id": "lb70sUG0Jaxv",
        "colab_type": "text"
      },
      "source": [
        "### Trata price"
      ]
    },
    {
      "cell_type": "code",
      "metadata": {
        "id": "MU0uVpfiJda1",
        "colab_type": "code",
        "colab": {
          "base_uri": "https://localhost:8080/",
          "height": 546
        },
        "outputId": "e3fc3509-74f9-41d7-a7a8-52f4d35ffd57"
      },
      "source": [
        "# importa dados da price\n",
        "\n",
        "df_price = pd.read_excel('{}/price.xlsx'.format(url_drive))\n",
        "\n",
        "df_price_a = df_price.set_index(['data ref']).stack().reset_index().rename(columns={'level_1':'variavel_macro',\n",
        "                                                                                        0:'valor',\n",
        "                                                                                        'data ref':'anomesdia'}).sort_values(by=['variavel_macro', 'anomesdia']).reset_index(drop=True)\n",
        "\n",
        "\n",
        "df_price_aux = pd.read_excel('{}/price_aux.xlsx'.format(url_drive))\n",
        "\n",
        "df_price_a1 = pd.merge(df_price_a, df_price_aux, how='left', left_on=['variavel_macro'], right_on=['variavel_macro'])\n",
        "\n",
        "#df_price_ajust.to_csv('{}/price_tratada.csv'.format(url_drive), sep='\\t')\n",
        "\n",
        "\n",
        "\n",
        "\n",
        "\n",
        "\n",
        "\n"
      ],
      "execution_count": 12,
      "outputs": [
        {
          "output_type": "execute_result",
          "data": {
            "text/html": [
              "<div>\n",
              "<style scoped>\n",
              "    .dataframe tbody tr th:only-of-type {\n",
              "        vertical-align: middle;\n",
              "    }\n",
              "\n",
              "    .dataframe tbody tr th {\n",
              "        vertical-align: top;\n",
              "    }\n",
              "\n",
              "    .dataframe thead th {\n",
              "        text-align: right;\n",
              "    }\n",
              "</style>\n",
              "<table border=\"1\" class=\"dataframe\">\n",
              "  <thead>\n",
              "    <tr style=\"text-align: right;\">\n",
              "      <th></th>\n",
              "      <th>anomesdia</th>\n",
              "      <th>variavel_macro</th>\n",
              "      <th>valor</th>\n",
              "      <th>unidade</th>\n",
              "      <th>moeda</th>\n",
              "    </tr>\n",
              "  </thead>\n",
              "  <tbody>\n",
              "    <tr>\n",
              "      <th>0</th>\n",
              "      <td>2009-01-01</td>\n",
              "      <td>ipca 12m (%)</td>\n",
              "      <td>15</td>\n",
              "      <td>percentual</td>\n",
              "      <td>NaN</td>\n",
              "    </tr>\n",
              "    <tr>\n",
              "      <th>1</th>\n",
              "      <td>2009-02-01</td>\n",
              "      <td>ipca 12m (%)</td>\n",
              "      <td>25</td>\n",
              "      <td>percentual</td>\n",
              "      <td>NaN</td>\n",
              "    </tr>\n",
              "    <tr>\n",
              "      <th>2</th>\n",
              "      <td>2009-03-01</td>\n",
              "      <td>ipca 12m (%)</td>\n",
              "      <td>35</td>\n",
              "      <td>percentual</td>\n",
              "      <td>NaN</td>\n",
              "    </tr>\n",
              "    <tr>\n",
              "      <th>3</th>\n",
              "      <td>2009-04-01</td>\n",
              "      <td>ipca 12m (%)</td>\n",
              "      <td>27</td>\n",
              "      <td>percentual</td>\n",
              "      <td>NaN</td>\n",
              "    </tr>\n",
              "    <tr>\n",
              "      <th>4</th>\n",
              "      <td>2009-05-01</td>\n",
              "      <td>ipca 12m (%)</td>\n",
              "      <td>32</td>\n",
              "      <td>percentual</td>\n",
              "      <td>NaN</td>\n",
              "    </tr>\n",
              "    <tr>\n",
              "      <th>5</th>\n",
              "      <td>2009-01-01</td>\n",
              "      <td>ipca mensal (%)</td>\n",
              "      <td>10</td>\n",
              "      <td>percentual</td>\n",
              "      <td>NaN</td>\n",
              "    </tr>\n",
              "    <tr>\n",
              "      <th>6</th>\n",
              "      <td>2009-02-01</td>\n",
              "      <td>ipca mensal (%)</td>\n",
              "      <td>20</td>\n",
              "      <td>percentual</td>\n",
              "      <td>NaN</td>\n",
              "    </tr>\n",
              "    <tr>\n",
              "      <th>7</th>\n",
              "      <td>2009-03-01</td>\n",
              "      <td>ipca mensal (%)</td>\n",
              "      <td>30</td>\n",
              "      <td>percentual</td>\n",
              "      <td>NaN</td>\n",
              "    </tr>\n",
              "    <tr>\n",
              "      <th>8</th>\n",
              "      <td>2009-04-01</td>\n",
              "      <td>ipca mensal (%)</td>\n",
              "      <td>31</td>\n",
              "      <td>percentual</td>\n",
              "      <td>NaN</td>\n",
              "    </tr>\n",
              "    <tr>\n",
              "      <th>9</th>\n",
              "      <td>2009-05-01</td>\n",
              "      <td>ipca mensal (%)</td>\n",
              "      <td>33</td>\n",
              "      <td>percentual</td>\n",
              "      <td>NaN</td>\n",
              "    </tr>\n",
              "    <tr>\n",
              "      <th>10</th>\n",
              "      <td>2009-01-01</td>\n",
              "      <td>pib mensal</td>\n",
              "      <td>31</td>\n",
              "      <td>bilhões</td>\n",
              "      <td>BRL</td>\n",
              "    </tr>\n",
              "    <tr>\n",
              "      <th>11</th>\n",
              "      <td>2009-02-01</td>\n",
              "      <td>pib mensal</td>\n",
              "      <td>34</td>\n",
              "      <td>bilhões</td>\n",
              "      <td>BRL</td>\n",
              "    </tr>\n",
              "    <tr>\n",
              "      <th>12</th>\n",
              "      <td>2009-03-01</td>\n",
              "      <td>pib mensal</td>\n",
              "      <td>29</td>\n",
              "      <td>bilhões</td>\n",
              "      <td>BRL</td>\n",
              "    </tr>\n",
              "    <tr>\n",
              "      <th>13</th>\n",
              "      <td>2009-04-01</td>\n",
              "      <td>pib mensal</td>\n",
              "      <td>37</td>\n",
              "      <td>bilhões</td>\n",
              "      <td>BRL</td>\n",
              "    </tr>\n",
              "    <tr>\n",
              "      <th>14</th>\n",
              "      <td>2009-05-01</td>\n",
              "      <td>pib mensal</td>\n",
              "      <td>23</td>\n",
              "      <td>bilhões</td>\n",
              "      <td>BRL</td>\n",
              "    </tr>\n",
              "  </tbody>\n",
              "</table>\n",
              "</div>"
            ],
            "text/plain": [
              "    anomesdia   variavel_macro  valor     unidade moeda\n",
              "0  2009-01-01     ipca 12m (%)     15  percentual   NaN\n",
              "1  2009-02-01     ipca 12m (%)     25  percentual   NaN\n",
              "2  2009-03-01     ipca 12m (%)     35  percentual   NaN\n",
              "3  2009-04-01     ipca 12m (%)     27  percentual   NaN\n",
              "4  2009-05-01     ipca 12m (%)     32  percentual   NaN\n",
              "5  2009-01-01  ipca mensal (%)     10  percentual   NaN\n",
              "6  2009-02-01  ipca mensal (%)     20  percentual   NaN\n",
              "7  2009-03-01  ipca mensal (%)     30  percentual   NaN\n",
              "8  2009-04-01  ipca mensal (%)     31  percentual   NaN\n",
              "9  2009-05-01  ipca mensal (%)     33  percentual   NaN\n",
              "10 2009-01-01       pib mensal     31     bilhões   BRL\n",
              "11 2009-02-01       pib mensal     34     bilhões   BRL\n",
              "12 2009-03-01       pib mensal     29     bilhões   BRL\n",
              "13 2009-04-01       pib mensal     37     bilhões   BRL\n",
              "14 2009-05-01       pib mensal     23     bilhões   BRL"
            ]
          },
          "metadata": {
            "tags": []
          },
          "execution_count": 12
        }
      ]
    }
  ]
}