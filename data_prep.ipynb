{
  "nbformat": 4,
  "nbformat_minor": 0,
  "metadata": {
    "colab": {
      "name": "data_prep",
      "provenance": [],
      "collapsed_sections": [],
      "authorship_tag": "ABX9TyOa0ehGecwTrhR3Rnj3IMRq",
      "include_colab_link": true
    },
    "kernelspec": {
      "name": "python3",
      "display_name": "Python 3"
    }
  },
  "cells": [
    {
      "cell_type": "markdown",
      "metadata": {
        "id": "view-in-github",
        "colab_type": "text"
      },
      "source": [
        "<a href=\"https://colab.research.google.com/github/bragarods/agro/blob/master/data_prep.ipynb\" target=\"_parent\"><img src=\"https://colab.research.google.com/assets/colab-badge.svg\" alt=\"Open In Colab\"/></a>"
      ]
    },
    {
      "cell_type": "code",
      "metadata": {
        "id": "n9jdNLNo-Lzq",
        "colab_type": "code",
        "colab": {
          "base_uri": "https://localhost:8080/",
          "height": 127
        },
        "outputId": "a5946872-f2bd-40e7-d579-a3e28ad6b8cf"
      },
      "source": [
        "import pandas as pd\n",
        "import numpy as np\n",
        "from google.colab import drive\n",
        "\n",
        "# monta caminho do Google Drive\n",
        "\n",
        "drive.mount('/drive')\n",
        "\n",
        "# define caminho dos dados\n",
        "\n",
        "url_drive = '/drive/My Drive/Colab Notebooks/case-agro/data'"
      ],
      "execution_count": null,
      "outputs": [
        {
          "output_type": "stream",
          "text": [
            "Go to this URL in a browser: https://accounts.google.com/o/oauth2/auth?client_id=947318989803-6bn6qk8qdgf4n4g3pfee6491hc0brc4i.apps.googleusercontent.com&redirect_uri=urn%3aietf%3awg%3aoauth%3a2.0%3aoob&response_type=code&scope=email%20https%3a%2f%2fwww.googleapis.com%2fauth%2fdocs.test%20https%3a%2f%2fwww.googleapis.com%2fauth%2fdrive%20https%3a%2f%2fwww.googleapis.com%2fauth%2fdrive.photos.readonly%20https%3a%2f%2fwww.googleapis.com%2fauth%2fpeopleapi.readonly\n",
            "\n",
            "Enter your authorization code:\n",
            "··········\n",
            "Mounted at /drive\n"
          ],
          "name": "stdout"
        }
      ]
    },
    {
      "cell_type": "code",
      "metadata": {
        "id": "7dtFsNN4hPLZ",
        "colab_type": "code",
        "colab": {}
      },
      "source": [
        "# importa base de localidades do IBGE\n",
        "\n",
        "df_mun = pd.read_csv('{}/mun_ibge.csv'.format(url_drive), sep='\\t').drop('Unnamed: 0', axis=1)"
      ],
      "execution_count": null,
      "outputs": []
    },
    {
      "cell_type": "code",
      "metadata": {
        "id": "2njdw8mQnJ6n",
        "colab_type": "code",
        "colab": {
          "base_uri": "https://localhost:8080/",
          "height": 73
        },
        "outputId": "bbda211b-8168-4bf5-eee8-160607c59df7"
      },
      "source": [
        "# import dados de produtividade dos estados\n",
        "\n",
        "df_pam_est = pd.read_csv('{}/pam_estadual_20200707.csv'.format(url_drive), sep=';', skiprows=2)\n",
        "\n",
        "# filtra informacoes adicionais da planilha\n",
        "\n",
        "df_pam_est = df_pam_est[~df_pam_est['Mês'].isnull()]\n",
        "\n",
        "# transforma codigo da localidade para numerico\n",
        "\n",
        "df_pam_est['Cód.'] = df_pam_est['Cód.'].astype(int)\n",
        "\n",
        "# salva no drive\n",
        "\n",
        "df_pam_est.to_csv('{}/pam_estadual_tratada.csv'.format(url_drive), sep='\\t')"
      ],
      "execution_count": null,
      "outputs": [
        {
          "output_type": "stream",
          "text": [
            "/usr/local/lib/python3.6/dist-packages/IPython/core/interactiveshell.py:2718: DtypeWarning: Columns (0) have mixed types.Specify dtype option on import or set low_memory=False.\n",
            "  interactivity=interactivity, compiler=compiler, result=result)\n"
          ],
          "name": "stderr"
        }
      ]
    },
    {
      "cell_type": "code",
      "metadata": {
        "id": "w5u02CnGCi_O",
        "colab_type": "code",
        "colab": {
          "base_uri": "https://localhost:8080/",
          "height": 73
        },
        "outputId": "78ff86dc-fce1-4610-d33f-41fb8fa26e01"
      },
      "source": [
        "# import dados de produtividade em nivel municipal\n",
        "\n",
        "years = [2015, 2016, 2017, 2018]\n",
        "\n",
        "for year in years:\n",
        "  \n",
        "  globals()['df_pam_mun_{}'.format(year)] = pd.read_csv('{}/pam_municipal_{}.csv'.format(url_drive, year), sep=';', skiprows=2)\n",
        "\n",
        "# empilha pesquisas municipais\n",
        "\n",
        "df_pam_mun = df_pam_mun_2018.append([df_pam_mun_2017, df_pam_mun_2016, df_pam_mun_2015])\n",
        "\n",
        "# filtra informacoes adicionais da planilha\n",
        "\n",
        "df_pam_mun = df_pam_mun[~df_pam_mun['Ano'].isnull()]\n",
        "\n",
        "# transforma codigo da localidade para numerico\n",
        "\n",
        "df_pam_mun['Cód.'] = df_pam_mun['Cód.'].astype(int)\n",
        "\n",
        "# transforma ano em inteiro\n",
        "\n",
        "df_pam_mun['Ano'] = df_pam_mun['Ano'].astype(int)\n",
        "\n",
        "# dropa coluna de calculo\n",
        "\n",
        "df_pam_mun.drop(columns=['Área colhida - percentual do total geral', 'Valor da produção (Mil Reais)'], axis=1, inplace=True)\n",
        "\n",
        "# salva no drive \n",
        " \n",
        "df_pam_mun.to_csv('{}/pam_municipal_tratada.csv'.format(url_drive), sep='\\t')\n",
        "\n"
      ],
      "execution_count": null,
      "outputs": [
        {
          "output_type": "stream",
          "text": [
            "/usr/local/lib/python3.6/dist-packages/IPython/core/interactiveshell.py:2718: DtypeWarning: Columns (0) have mixed types.Specify dtype option on import or set low_memory=False.\n",
            "  interactivity=interactivity, compiler=compiler, result=result)\n"
          ],
          "name": "stderr"
        }
      ]
    },
    {
      "cell_type": "code",
      "metadata": {
        "id": "GWoXk12WILGD",
        "colab_type": "code",
        "colab": {}
      },
      "source": [
        "# culturas unicas estadual\n",
        "\n",
        "est_unq = df_pam_est['Produto das lavouras'].unique()\n",
        "\n",
        "mun_unq = df_pam_mun['Produto das lavouras temporárias e permanentes'].unique()\n",
        "\n",
        "df_unq = pd.DataFrame([est_unq, mun_unq]).T\n",
        "\n",
        "df_unq.rename(columns={0:'estadual', 1: 'municipal'}, inplace=True)\n",
        "\n",
        "df_unq.to_excel('{}/cult_unq.xlsx'.format(url_drive))"
      ],
      "execution_count": null,
      "outputs": []
    },
    {
      "cell_type": "code",
      "metadata": {
        "id": "R67GwcBR-22h",
        "colab_type": "code",
        "colab": {}
      },
      "source": [
        "# importa dados INMET\n",
        "\n",
        "years = [2018, 2019] \n",
        "months = np.arange(1,13)\n",
        "\n",
        "df_aut_emp = pd.DataFrame([])\n",
        "\n",
        "for year in years:\n",
        "  for month in months:\n",
        "    month_1 = np.where(month != 12,\n",
        "                       month + 1,\n",
        "                       1)\n",
        "    year_1 = np.where(month != 12,\n",
        "                      year,\n",
        "                      year + 1)\n",
        "    \n",
        "    df_aut_tmp = pd.read_csv('/drive/My Drive/Colab Notebooks/case-agro/data/dados_aut_emp_{}{}.csv'.format(year,str(month).zfill(2)), sep='\\t')\n",
        "    \n",
        "    print('OK', '{}{}'.format(year, str(month).zfill(2)))\n",
        "\n",
        "    df_aut_emp = df_aut_emp.append(df_aut_tmp)\n",
        "\n",
        "\n"
      ],
      "execution_count": null,
      "outputs": []
    }
  ]
}