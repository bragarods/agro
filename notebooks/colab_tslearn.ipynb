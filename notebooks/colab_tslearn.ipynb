{
 "cells": [
  {
   "cell_type": "code",
   "execution_count": 1,
   "metadata": {},
   "outputs": [],
   "source": [
    "import requests\n",
    "from io import StringIO\n",
    "import pandas as pd\n",
    "import numpy as np\n",
    "import matplotlib.pyplot as plt\n",
    "import sklearn.metrics as skm\n",
    "#import warnings\n",
    "#warnings.filterwarnings('ignore')\n",
    "\n",
    "plt.rcParams['figure.figsize'] = (11, 7)"
   ]
  },
  {
   "cell_type": "markdown",
   "metadata": {},
   "source": [
    "## Import monthly data"
   ]
  },
  {
   "cell_type": "code",
   "execution_count": 118,
   "metadata": {},
   "outputs": [],
   "source": [
    "# google drive shareable file link\n",
    "\n",
    "orig_url = 'https://drive.google.com/file/d/1WQ9NARYCNZxWlQUAf4Zn5TxJcnOGjEn3/view?usp=sharing'\n",
    "\n",
    "# get file id\n",
    "\n",
    "file_id = orig_url.split('/')[-2]\n",
    "\n",
    "# create download url\n",
    "\n",
    "dwn_url='https://drive.google.com/uc?export=download&id=' + file_id\n",
    "\n",
    "# get raw text inside url\n",
    "\n",
    "url = requests.get(dwn_url).text\n",
    "\n",
    "# create a buffer\n",
    "\n",
    "csv_raw = StringIO(url)\n",
    "\n",
    "# read from buffer\n",
    "\n",
    "df = pd.read_csv(csv_raw, index_col=0)\n",
    "\n",
    "df.reset_index(drop=True, inplace=True)\n",
    "\n",
    "# create sinop and csinop series\n",
    "\n",
    "df['date'] = pd.to_datetime(df['date'], format=('%Y-%m-%d')) \n",
    "\n",
    "#df.set_index('date', inplace=True)\n",
    "\n",
    "# cut train period\n",
    "\n",
    "train = df[(df.date >= '2000-01-01') & (df.date <= '2019-12-01')]\n",
    "\n",
    "test = df[df.date >= '2019-01-01']"
   ]
  },
  {
   "cell_type": "markdown",
   "metadata": {},
   "source": [
    "## Flag first full year of data"
   ]
  },
  {
   "cell_type": "code",
   "execution_count": 119,
   "metadata": {},
   "outputs": [],
   "source": [
    "df['chuva_max_12m'] = df.groupby('cd_estacao')['chuva'].rolling(12).max().reset_index(0,drop=True)\n",
    "\n",
    "df['flag_chuva_max_12m'] = np.where((~df['chuva_max_12m'].isna()) & (df['chuva_max_12m'] >= 1),\n",
    "                               1,\n",
    "                               0)\n",
    "\n",
    "min_year = df[df['flag_chuva_max_12m']==1].groupby('cd_estacao').agg(min_year=('date','min'))['min_year'].dt.year+1\n",
    "\n",
    "df = pd.merge(df,min_year,how='left',left_on=df.cd_estacao,right_on=min_year.index)\n",
    "\n",
    "df.drop(columns='key_0', inplace=True)"
   ]
  },
  {
   "cell_type": "markdown",
   "metadata": {},
   "source": [
    "## Clustering series"
   ]
  },
  {
   "cell_type": "code",
   "execution_count": 122,
   "metadata": {},
   "outputs": [],
   "source": [
    "df10 = df[df['min_year']<=2009]"
   ]
  },
  {
   "cell_type": "code",
   "execution_count": 143,
   "metadata": {},
   "outputs": [],
   "source": [
    "series = []\n",
    "\n",
    "for cd_estacao in df10.cd_estacao.unique()[0:2]:\n",
    "    series.append(df10[df10['cd_estacao']==cd_estacao].chuva)"
   ]
  },
  {
   "cell_type": "code",
   "execution_count": 145,
   "metadata": {},
   "outputs": [
    {
     "ename": "ModuleNotFoundError",
     "evalue": "No module named 'trendypy'",
     "output_type": "error",
     "traceback": [
      "\u001b[0;31m---------------------------------------------------------------------------\u001b[0m",
      "\u001b[0;31mModuleNotFoundError\u001b[0m                       Traceback (most recent call last)",
      "\u001b[0;32m<ipython-input-145-f100cc5a6882>\u001b[0m in \u001b[0;36m<module>\u001b[0;34m\u001b[0m\n\u001b[0;32m----> 1\u001b[0;31m \u001b[0;32mfrom\u001b[0m \u001b[0mtrendypy\u001b[0m\u001b[0;34m.\u001b[0m\u001b[0mtrendy\u001b[0m \u001b[0;32mimport\u001b[0m \u001b[0mTrendy\u001b[0m\u001b[0;34m\u001b[0m\u001b[0;34m\u001b[0m\u001b[0m\n\u001b[0m\u001b[1;32m      2\u001b[0m \u001b[0mtrendy\u001b[0m \u001b[0;34m=\u001b[0m \u001b[0mTrendy\u001b[0m\u001b[0;34m(\u001b[0m\u001b[0mn_clusters\u001b[0m\u001b[0;34m=\u001b[0m\u001b[0;36m2\u001b[0m\u001b[0;34m)\u001b[0m\u001b[0;34m\u001b[0m\u001b[0;34m\u001b[0m\u001b[0m\n\u001b[1;32m      3\u001b[0m \u001b[0mtrendy\u001b[0m\u001b[0;34m.\u001b[0m\u001b[0mfit\u001b[0m\u001b[0;34m(\u001b[0m\u001b[0mseries\u001b[0m\u001b[0;34m)\u001b[0m\u001b[0;34m\u001b[0m\u001b[0;34m\u001b[0m\u001b[0m\n\u001b[1;32m      4\u001b[0m \u001b[0mprint\u001b[0m\u001b[0;34m(\u001b[0m\u001b[0mtrendy\u001b[0m\u001b[0;34m.\u001b[0m\u001b[0mlabels_\u001b[0m\u001b[0;34m)\u001b[0m\u001b[0;34m\u001b[0m\u001b[0;34m\u001b[0m\u001b[0m\n\u001b[1;32m      5\u001b[0m \u001b[0;34m\u001b[0m\u001b[0m\n",
      "\u001b[0;31mModuleNotFoundError\u001b[0m: No module named 'trendypy'"
     ]
    }
   ],
   "source": [
    "from trendypy.trendy import Trendy\n",
    "trendy = Trendy(n_clusters=2)\n",
    "trendy.fit(series)\n",
    "print(trendy.labels_)\n",
    "\n",
    "#trendy.predict([[0.9, 2, 3.1, 4]]) # another increasing trend\n"
   ]
  }
 ],
 "metadata": {
  "kernelspec": {
   "display_name": "Python 3",
   "language": "python",
   "name": "python3"
  },
  "language_info": {
   "codemirror_mode": {
    "name": "ipython",
    "version": 3
   },
   "file_extension": ".py",
   "mimetype": "text/x-python",
   "name": "python",
   "nbconvert_exporter": "python",
   "pygments_lexer": "ipython3",
   "version": "3.9.1"
  }
 },
 "nbformat": 4,
 "nbformat_minor": 4
}
