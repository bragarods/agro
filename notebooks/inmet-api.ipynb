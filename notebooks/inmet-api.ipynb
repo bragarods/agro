{
 "cells": [
  {
   "cell_type": "code",
   "execution_count": 1,
   "metadata": {
    "colab": {
     "base_uri": "https://localhost:8080/"
    },
    "executionInfo": {
     "elapsed": 27114,
     "status": "ok",
     "timestamp": 1608767944908,
     "user": {
      "displayName": "Rodrigo Braga",
      "photoUrl": "https://lh3.googleusercontent.com/a-/AOh14GhZHhwIHZ_80zZxieZEYEacf3i5AYSlAT0wgpPxLA=s64",
      "userId": "12619949000131285102"
     },
     "user_tz": 180
    },
    "id": "Xb0IuYhVTRX8",
    "outputId": "8ed0258f-b023-445a-910c-92e132dc960b"
   },
   "outputs": [],
   "source": [
    "import pandas as pd\n",
    "import numpy as np\n",
    "import requests\n",
    "from datetime import date, datetime, timedelta\n",
    "from time import sleep\n",
    "from IPython.display import clear_output\n"
   ]
  },
  {
   "cell_type": "code",
   "execution_count": 3,
   "metadata": {
    "colab": {
     "base_uri": "https://localhost:8080/"
    },
    "id": "cSmJH3MdUKnh",
    "outputId": "1590cd44-19e2-45ed-fc67-0472a0d4c5d2"
   },
   "outputs": [],
   "source": [
    "years = np.arange(2020,2021)\n",
    "\n",
    "months = np.arange(11,13)\n",
    "\n",
    "for year in years:\n",
    "    for month in months:\n",
    "\n",
    "        sdate = date(year, month, 1)\n",
    "\n",
    "        month_1 = np.where(month != 12,\n",
    "                           month + 1,\n",
    "                           1)\n",
    "\n",
    "        year_1 = np.where(month != 12,\n",
    "                          year,\n",
    "                          year + 1)\n",
    "\n",
    "        edate = date(year_1, month_1, 1) - timedelta(days=1)\n",
    "\n",
    "        delta = edate - sdate\n",
    "\n",
    "        days = []\n",
    "\n",
    "        df_dados_aut_emp = pd.DataFrame([])\n",
    "\n",
    "    for i in range(delta.days + 1):\n",
    "        day = sdate + timedelta(days=i)\n",
    "        days.append(str(day))\n",
    "      \n",
    "    for day in days:\n",
    "\n",
    "        while True:\n",
    "            try:\n",
    "\n",
    "                url_dados_aut = 'http://apitempo.inmet.gov.br/estacao/dados/{}'.format(day)\n",
    "\n",
    "                df_dados_aut = pd.read_json(requests.get(url_dados_aut, headers={'User-agent':'Mozilla/5.0'}).text)\n",
    "\n",
    "                print('OK', ' | ', day, ' @ ', datetime.now().strftime('%d-%m-%Y %H:%M'))\n",
    "\n",
    "                df_dados_aut_emp = df_dados_aut_emp.append(df_dados_aut)\n",
    "\n",
    "            except:\n",
    "\n",
    "                print('NO', ' | ', day, ' @ ', datetime.now().strftime('%d-%m-%Y %H:%m'))\n",
    "                sleep(71)\n",
    "                continue\n",
    "            break\n",
    "\n",
    "    df_dados_aut_emp.columns = [col.lower() for col in df_dados_aut_emp.columns]\n",
    "\n",
    "    df_dados_aut_emp.to_csv('../../dados_aut_emp_{}{}.csv'.format(year, str(month).zfill(2)), sep='\\t')\n",
    "\n",
    "    print('Salvo com sucesso!')\n",
    "\n",
    "    clear_output()"
   ]
  }
 ],
 "metadata": {
  "colab": {
   "authorship_tag": "ABX9TyNycPMnWpLOv1GQ/BGpYyvZ",
   "collapsed_sections": [],
   "name": "inmet-api",
   "provenance": []
  },
  "kernelspec": {
   "display_name": "Python 3",
   "language": "python",
   "name": "python3"
  },
  "language_info": {
   "codemirror_mode": {
    "name": "ipython",
    "version": 3
   },
   "file_extension": ".py",
   "mimetype": "text/x-python",
   "name": "python",
   "nbconvert_exporter": "python",
   "pygments_lexer": "ipython3",
   "version": "3.9.1"
  }
 },
 "nbformat": 4,
 "nbformat_minor": 4
}
