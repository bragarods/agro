{
 "cells": [
  {
   "cell_type": "code",
   "execution_count": 1,
   "metadata": {},
   "outputs": [],
   "source": [
    "import pandas as pd\n",
    "import numpy as np\n",
    "import os"
   ]
  },
  {
   "cell_type": "code",
   "execution_count": 8,
   "metadata": {},
   "outputs": [],
   "source": [
    "df = pd.DataFrame([])\n",
    "\n",
    "path = '/Users/rodrigobraga/Downloads/dados_inmet'\n",
    "\n",
    "yearmonths = sorted([file.split('_')[3].rstrip('.csv') for file in os.listdir(path) if file.startswith('dados')])"
   ]
  },
  {
   "cell_type": "code",
   "execution_count": null,
   "metadata": {},
   "outputs": [],
   "source": [
    "for yearmonth in yearmonths:\n",
    "    \n",
    "    print('Processando {}...'.format(yearmonth))\n",
    "    \n",
    "    tmp = pd.read_csv(path + '/dados_aut_emp_{}.csv'.format(yearmonth), sep='\\t', index_col=0)\n",
    "    \n",
    "    tmp['dc_nome'] = tmp['dc_nome'].str.lower()\n",
    "    \n",
    "    tmpg = tmp.groupby(['cd_estacao', 'dc_nome', 'vl_latitude', 'vl_longitude', 'dt_medicao']).agg({'chuva':'sum'}).reset_index()\n",
    "    \n",
    "    df = df.append(tmpg)"
   ]
  },
  {
   "cell_type": "code",
   "execution_count": 10,
   "metadata": {},
   "outputs": [],
   "source": [
    "df.to_csv('inmet_emp.csv')"
   ]
  },
  {
   "cell_type": "markdown",
   "metadata": {},
   "source": [
    "## Monthly data"
   ]
  },
  {
   "cell_type": "code",
   "execution_count": 13,
   "metadata": {},
   "outputs": [],
   "source": [
    "# create date as datetime\n",
    "\n",
    "df['date'] = pd.to_datetime(df['dt_medicao'])\n",
    "\n",
    "# aggregate variables by station and month\n",
    "\n",
    "dfg = df.groupby([df.cd_estacao,\n",
    "                  df.dc_nome,\n",
    "                  df.vl_latitude,\n",
    "                  df.vl_longitude,\n",
    "                  df.date.dt.strftime('%Y-%m')]).agg({'chuva':'sum'}).reset_index()\n",
    "\n",
    "# replace name of index\n",
    "\n",
    "dfg.rename(columns={'date':'yearmonth'}, inplace=True)\n",
    "\n",
    "# convert back do datetime\n",
    "\n",
    "dfg['yearmonth'] = pd.to_datetime(dfg['yearmonth'], format='%Y-%m-%d')\n",
    "\n",
    "# sort values\n",
    "\n",
    "dfg.sort_values(['cd_estacao', 'yearmonth'], inplace=True)\n",
    "\n",
    "# delete df from memory\n",
    "\n",
    "dfg.to_csv('inmet_memp.csv')"
   ]
  }
 ],
 "metadata": {
  "kernelspec": {
   "display_name": "Python 3",
   "language": "python",
   "name": "python3"
  },
  "language_info": {
   "codemirror_mode": {
    "name": "ipython",
    "version": 3
   },
   "file_extension": ".py",
   "mimetype": "text/x-python",
   "name": "python",
   "nbconvert_exporter": "python",
   "pygments_lexer": "ipython3",
   "version": "3.9.1"
  }
 },
 "nbformat": 4,
 "nbformat_minor": 4
}
