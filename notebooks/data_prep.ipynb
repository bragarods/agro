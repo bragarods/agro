{
 "cells": [
  {
   "cell_type": "code",
   "execution_count": 1,
   "metadata": {},
   "outputs": [],
   "source": [
    "import pandas as pd\n",
    "import numpy as np\n",
    "import os"
   ]
  },
  {
   "cell_type": "code",
   "execution_count": 63,
   "metadata": {},
   "outputs": [],
   "source": [
    "path = '/Users/rodrigobraga/Downloads/dados_inmet'\n",
    "\n",
    "yearmonths = sorted([file.split('_')[3].rstrip('.csv') for file in os.listdir(path) if file.startswith('dados')])"
   ]
  },
  {
   "cell_type": "markdown",
   "metadata": {},
   "source": [
    "## Empilhada em Parquet (not working)"
   ]
  },
  {
   "cell_type": "code",
   "execution_count": null,
   "metadata": {},
   "outputs": [],
   "source": [
    "for year in np.arange(2000,2002):\n",
    "    df = pd.DataFrame([])\n",
    "    for month in np.arange(1,12):\n",
    "        \n",
    "        tmp = pd.read_csv(path + '/dados_aut_emp_{}.csv'.format(yearmonth), sep='\\t', index_col=0)\n",
    "\n",
    "        tmp['dc_nome'] = tmp['dc_nome'].str.lower()\n",
    "\n",
    "        tmp['date'] = pd.to_datetime(tmp['dt_medicao'])\n",
    "        \n",
    "        df = df.append(tmp)\n",
    "        \n",
    "    df.to_csv('../../inmet_emp_{}.csv'.format(year), sep='\\t', index=False)\n",
    "        \n"
   ]
  },
  {
   "cell_type": "markdown",
   "metadata": {},
   "source": [
    "## Diária"
   ]
  },
  {
   "cell_type": "code",
   "execution_count": null,
   "metadata": {},
   "outputs": [],
   "source": [
    "df = pd.DataFrame([])\n",
    "\n",
    "for yearmonth in yearmonths:\n",
    "    \n",
    "    print('Processando {}...'.format(yearmonth))\n",
    "    \n",
    "    tmp = pd.read_csv(path + '/dados_aut_emp_{}.csv'.format(yearmonth), sep='\\t', index_col=0)\n",
    "    \n",
    "    tmp['dc_nome'] = tmp['dc_nome'].str.lower()\n",
    "    \n",
    "    # create date as datetime\n",
    "\n",
    "    tmp['date'] = pd.to_datetime(tmp['dt_medicao'])\n",
    "\n",
    "    # aplica groupby por dia\n",
    "\n",
    "    tmpg = tmp.groupby([tmp.cd_estacao,\n",
    "                        tmp.dc_nome,\n",
    "                        tmp.vl_latitude,\n",
    "                        tmp.vl_longitude,\n",
    "                        tmp.date.dt.strftime('%Y-%m-%d')]).\\\n",
    "                        agg(chuva=('chuva','sum'),\n",
    "                        pre_ins=('pre_ins','mean'),\n",
    "                        pre_min=('pre_min','min'),\n",
    "                        pre_max=('pre_max','max'),\n",
    "                        pto_ins=('pto_ins','mean'),\n",
    "                        pto_max=('pto_max','max'),\n",
    "                        pto_min=('pto_min','min'),\n",
    "                        rad_glo_ins=('rad_glo','mean'),\n",
    "                        rad_glo_max=('rad_glo','max'),\n",
    "                        rad_glo_min=('rad_glo','min'),\n",
    "                        tem_ins=('tem_ins','mean'),\n",
    "                        tem_max=('tem_max','max'),\n",
    "                        tem_min=('tem_min','min'),\n",
    "                        umd_ins=('umd_ins','mean'),\n",
    "                        umd_max=('umd_max','max'),\n",
    "                        umd_min=('umd_min','min'),\n",
    "                        ven_dir_max=('ven_dir','max'),\n",
    "                        ven_dir_min=('ven_dir','min'),\n",
    "                        ven_raj_max=('ven_raj','max'),\n",
    "                        ven_raj_min=('ven_raj','min'),\n",
    "                        ven_vel_max=('ven_vel','max'),\n",
    "                        ven_vel_min=('ven_vel','min')).reset_index()\n",
    "\n",
    "    # convert back do datetime\n",
    "\n",
    "    tmpg['date'] = pd.to_datetime(tmpg['date'], format='%Y-%m-%d')\n",
    "    \n",
    "    df = df.append(tmpg)"
   ]
  },
  {
   "cell_type": "code",
   "execution_count": null,
   "metadata": {},
   "outputs": [],
   "source": [
    "df.to_csv('../../inmet_emp_diaria.csv')"
   ]
  },
  {
   "cell_type": "markdown",
   "metadata": {},
   "source": [
    "## Mensal"
   ]
  },
  {
   "cell_type": "code",
   "execution_count": null,
   "metadata": {},
   "outputs": [],
   "source": [
    "df = pd.DataFrame([])\n",
    "\n",
    "for yearmonth in yearmonths:\n",
    "    \n",
    "    print('Processando {}...'.format(yearmonth))\n",
    "    \n",
    "    tmp = pd.read_csv(path + '/dados_aut_emp_{}.csv'.format(yearmonth), sep='\\t', index_col=0)\n",
    "    \n",
    "    tmp['dc_nome'] = tmp['dc_nome'].str.lower()\n",
    "    \n",
    "    # create date as datetime\n",
    "\n",
    "    tmp['date'] = pd.to_datetime(tmp['dt_medicao'])\n",
    "\n",
    "    # aplica groupby por dia\n",
    "\n",
    "    tmpg = tmp.groupby([tmp.cd_estacao,\n",
    "                        tmp.dc_nome,\n",
    "                        tmp.vl_latitude,\n",
    "                        tmp.vl_longitude,\n",
    "                        tmp.date.dt.strftime('%Y-%m')]).\\\n",
    "                        agg(chuva=('chuva','sum'),\n",
    "                        pre_ins=('pre_ins','mean'),\n",
    "                        pre_min=('pre_min','min'),\n",
    "                        pre_max=('pre_max','max'),\n",
    "                        pto_ins=('pto_ins','mean'),\n",
    "                        pto_max=('pto_max','max'),\n",
    "                        pto_min=('pto_min','min'),\n",
    "                        rad_glo_ins=('rad_glo','mean'),\n",
    "                        rad_glo_max=('rad_glo','max'),\n",
    "                        rad_glo_min=('rad_glo','min'),\n",
    "                        tem_ins=('tem_ins','mean'),\n",
    "                        tem_max=('tem_max','max'),\n",
    "                        tem_min=('tem_min','min'),\n",
    "                        umd_ins=('umd_ins','mean'),\n",
    "                        umd_max=('umd_max','max'),\n",
    "                        umd_min=('umd_min','min'),\n",
    "                        ven_dir_max=('ven_dir','max'),\n",
    "                        ven_dir_min=('ven_dir','min'),\n",
    "                        ven_raj_max=('ven_raj','max'),\n",
    "                        ven_raj_min=('ven_raj','min'),\n",
    "                        ven_vel_max=('ven_vel','max'),\n",
    "                        ven_vel_min=('ven_vel','min')).reset_index()\n",
    "\n",
    "    # convert back do datetime\n",
    "\n",
    "    tmpg['date'] = pd.to_datetime(tmpg['date'], format='%Y-%m-%d')\n",
    "    \n",
    "    df = df.append(tmpg)"
   ]
  },
  {
   "cell_type": "code",
   "execution_count": 69,
   "metadata": {},
   "outputs": [],
   "source": [
    "df.to_csv('../../inmet_emp_mensal.csv')"
   ]
  }
 ],
 "metadata": {
  "kernelspec": {
   "display_name": "Python 3",
   "language": "python",
   "name": "python3"
  },
  "language_info": {
   "codemirror_mode": {
    "name": "ipython",
    "version": 3
   },
   "file_extension": ".py",
   "mimetype": "text/x-python",
   "name": "python",
   "nbconvert_exporter": "python",
   "pygments_lexer": "ipython3",
   "version": "3.9.1"
  }
 },
 "nbformat": 4,
 "nbformat_minor": 4
}
